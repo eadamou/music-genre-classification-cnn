{
 "cells": [
  {
   "cell_type": "code",
   "execution_count": 17,
   "id": "8462eced",
   "metadata": {},
   "outputs": [],
   "source": [
    "LearningRate=[0.001,0.0005,0.0001]"
   ]
  },
  {
   "cell_type": "code",
   "execution_count": 18,
   "id": "b72c3187",
   "metadata": {},
   "outputs": [
    {
     "name": "stdout",
     "output_type": "stream",
     "text": [
      "0.001\n",
      "0.0005\n",
      "0.0001\n"
     ]
    }
   ],
   "source": [
    "for i in range(3):\n",
    "    print(LearningRate[i])"
   ]
  },
  {
   "cell_type": "code",
   "execution_count": null,
   "id": "95f35e3b",
   "metadata": {},
   "outputs": [],
   "source": []
  }
 ],
 "metadata": {
  "kernelspec": {
   "display_name": "Python 3 (ipykernel)",
   "language": "python",
   "name": "python3"
  },
  "language_info": {
   "codemirror_mode": {
    "name": "ipython",
    "version": 3
   },
   "file_extension": ".py",
   "mimetype": "text/x-python",
   "name": "python",
   "nbconvert_exporter": "python",
   "pygments_lexer": "ipython3",
   "version": "3.9.7"
  }
 },
 "nbformat": 4,
 "nbformat_minor": 5
}
